{
 "cells": [
  {
   "cell_type": "markdown",
   "id": "32f0695e",
   "metadata": {},
   "source": [
    "# Documentation"
   ]
  },
  {
   "cell_type": "code",
   "execution_count": 1,
   "id": "366960a5-fc46-4de8-a50a-4acb5c405f20",
   "metadata": {},
   "outputs": [],
   "source": [
    "# Imports\n",
    "# standard imports\n",
    "import numpy as np\n",
    "import pandas as pd\n",
    "# .py files\n",
    "import acquire\n",
    "# notebook formatting\n",
    "from pprint import pprint\n",
    "import warnings\n",
    "warnings.filterwarnings(\"ignore\")"
   ]
  },
  {
   "cell_type": "code",
   "execution_count": 2,
   "id": "d4960f45-4185-4cf6-9a1d-f111930d7ada",
   "metadata": {},
   "outputs": [],
   "source": [
    "import re\n",
    "import unicodedata\n",
    "import nltk\n",
    "from nltk.corpus import stopwords"
   ]
  },
  {
   "cell_type": "code",
   "execution_count": 6,
   "id": "aef84b3a-0095-46c8-a1a0-20bcd40034c7",
   "metadata": {},
   "outputs": [],
   "source": [
    "df = pd.read_csv('combined_data_ready.csv')"
   ]
  },
  {
   "cell_type": "markdown",
   "id": "3e0b7d2e",
   "metadata": {},
   "source": [
    "__Data Dictionary__\n",
    "\n",
    "        repo        | Github repository. Formated: username/repo-name\n",
    "        -----------------------------------------------------\n",
    "        language    | programming language used in repository\n",
    "        -----------------------------------------------------\n",
    "        original    | Original Readme content of repository\n",
    "        -----------------------------------------------------\n",
    "        clean       | Cleaned Readme content of repository\n",
    "        -----------------------------------------------------\n",
    "        stemmed     | Stemmed Readme content of repository\n",
    "        -----------------------------------------------------\n",
    "        lemmatized  | Lemmatized Readme content of repository\n",
    "        "
   ]
  },
  {
   "cell_type": "markdown",
   "id": "98753c33",
   "metadata": {},
   "source": [
    "### Initial Take Aways\n",
    "\n",
    "__Shape:__\n",
    "\n",
    "    107 rows, 6 columns\n",
    "    \n",
    "__Stats:__\n",
    "\n",
    "    na\n",
    "\n",
    "__Info:__\n",
    "\n",
    "    - no null values\n",
    "    - all columns have a object dtype\n",
    "    \n",
    "__Data Types__\n",
    "\n",
    "    - all columns are objects\n",
    "    - the data set itself is an object\n",
    "    \n",
    "__Nulls__\n",
    "\n",
    "    - no null values\n",
    "\n",
    "__Unique Value Counts__\n",
    "\n",
    "    - language has 18 unique values\n",
    "    - all other columns have 107 unique values"
   ]
  },
  {
   "cell_type": "code",
   "execution_count": null,
   "id": "546b9526",
   "metadata": {},
   "outputs": [],
   "source": []
  },
  {
   "cell_type": "code",
   "execution_count": null,
   "id": "7d62f7ef",
   "metadata": {},
   "outputs": [],
   "source": []
  },
  {
   "cell_type": "code",
   "execution_count": null,
   "id": "94c2b403",
   "metadata": {},
   "outputs": [],
   "source": []
  },
  {
   "cell_type": "code",
   "execution_count": null,
   "id": "59c4d57a",
   "metadata": {},
   "outputs": [],
   "source": []
  },
  {
   "cell_type": "code",
   "execution_count": null,
   "id": "9477e57c",
   "metadata": {},
   "outputs": [],
   "source": []
  },
  {
   "cell_type": "code",
   "execution_count": null,
   "id": "dba749a2",
   "metadata": {},
   "outputs": [],
   "source": []
  },
  {
   "cell_type": "code",
   "execution_count": null,
   "id": "ee79becc",
   "metadata": {},
   "outputs": [],
   "source": []
  },
  {
   "cell_type": "code",
   "execution_count": null,
   "id": "8ed22558",
   "metadata": {},
   "outputs": [],
   "source": []
  },
  {
   "cell_type": "code",
   "execution_count": null,
   "id": "8e60c27d",
   "metadata": {},
   "outputs": [],
   "source": []
  },
  {
   "cell_type": "code",
   "execution_count": null,
   "id": "5645be26",
   "metadata": {},
   "outputs": [],
   "source": []
  },
  {
   "cell_type": "code",
   "execution_count": null,
   "id": "0e5f55c1",
   "metadata": {},
   "outputs": [],
   "source": []
  },
  {
   "cell_type": "code",
   "execution_count": null,
   "id": "e5683421",
   "metadata": {},
   "outputs": [],
   "source": []
  },
  {
   "cell_type": "code",
   "execution_count": null,
   "id": "b2174a67",
   "metadata": {},
   "outputs": [],
   "source": []
  },
  {
   "cell_type": "code",
   "execution_count": null,
   "id": "074be988",
   "metadata": {},
   "outputs": [],
   "source": [
    " "
   ]
  },
  {
   "cell_type": "markdown",
   "id": "8f062ff8",
   "metadata": {},
   "source": [
    "# Scratch work"
   ]
  },
  {
   "cell_type": "code",
   "execution_count": null,
   "id": "35599192",
   "metadata": {},
   "outputs": [],
   "source": [
    "cv = CountVectorizer()\n",
    "fit = cv.fit_transform(X_train.clean)\n",
    "clean_list = cv.get_feature_names()\n",
    "#clean_list"
   ]
  },
  {
   "cell_type": "code",
   "execution_count": null,
   "id": "50e5d3aa",
   "metadata": {},
   "outputs": [],
   "source": [
    "seen = set()\n",
    "dupes = []\n",
    "\n",
    "for x in clean_list:\n",
    "    if x in seen:\n",
    "        dupes.append(x)\n",
    "    else:\n",
    "        seen.add(x)\n",
    "dupes"
   ]
  }
 ],
 "metadata": {
  "kernelspec": {
   "display_name": "Python 3 (ipykernel)",
   "language": "python",
   "name": "python3"
  },
  "language_info": {
   "codemirror_mode": {
    "name": "ipython",
    "version": 3
   },
   "file_extension": ".py",
   "mimetype": "text/x-python",
   "name": "python",
   "nbconvert_exporter": "python",
   "pygments_lexer": "ipython3",
   "version": "3.9.13"
  }
 },
 "nbformat": 4,
 "nbformat_minor": 5
}
